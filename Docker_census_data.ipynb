{
 "cells": [
  {
   "cell_type": "code",
   "execution_count": 1,
   "metadata": {
    "slideshow": {
     "slide_type": "skip"
    }
   },
   "outputs": [],
   "source": [
    "# Import libraries necessary for this project\n",
    "import numpy as np\n",
    "import pandas as pd\n",
    "from time import time\n",
    "from IPython.display import display # Allows the use of display() for DataFrames\n",
    "from __future__ import division\n",
    "\n",
    "# Import supplementary visualization code visuals.py\n",
    "# import visuals as vs\n",
    "\n",
    "# Pretty display for notebooks\n",
    "%matplotlib inline"
   ]
  },
  {
   "cell_type": "markdown",
   "metadata": {
    "slideshow": {
     "slide_type": "slide"
    }
   },
   "source": [
    "## Welcome to Data Engineering Workshop"
   ]
  },
  {
   "cell_type": "markdown",
   "metadata": {
    "slideshow": {
     "slide_type": "slide"
    }
   },
   "source": [
    "## Outline\n",
    "\n",
    "### Part 0 : Orientation and setup\n",
    "### Part 1 : Introduction\n",
    "### Part 2 : Requirements and Tools\n",
    "    Task 0: Prerequisites\n",
    "    Task 1 : Run Docker containers\n",
    "    Task 2 : Package and run a custom app using Docker\n",
    "    Task 3 : Modify a running app\n",
    "    Kahoot BREAK\n",
    "\n",
    "### Break\n",
    " \n",
    "### Part 3 : Deploy your App\n",
    " \n",
    "### Part 4 : Exercises\n",
    " \n"
   ]
  },
  {
   "cell_type": "markdown",
   "metadata": {},
   "source": [
    "# Orientation and Setup"
   ]
  },
  {
   "cell_type": "markdown",
   "metadata": {
    "slideshow": {
     "slide_type": "slide"
    }
   },
   "source": [
    "# Requirements"
   ]
  },
  {
   "cell_type": "markdown",
   "metadata": {
    "slideshow": {
     "slide_type": "subslide"
    }
   },
   "source": [
    "* Your computer:\n",
    "    * Docker\n",
    "\n",
    "* You\n",
    "    * Basic Shell"
   ]
  },
  {
   "cell_type": "markdown",
   "metadata": {
    "slideshow": {
     "slide_type": "slide"
    }
   },
   "source": [
    "# Tools"
   ]
  },
  {
   "cell_type": "markdown",
   "metadata": {
    "slideshow": {
     "slide_type": "subslide"
    }
   },
   "source": [
    "* Two main types:\n",
    "    * Virtual Machines:\n",
    "        * Virtualbox\n",
    "        * VMware\n",
    "        * AWS, Google Compute Engine, ...\n",
    "    * Containers:\n",
    "        * Docker\n",
    "        * Singularity\n",
    "* Main idea -- isolate the computing environment\n",
    "    * Allow regenerating computing environments\n",
    "    * Allow sharing your computing environments"
   ]
  },
  {
   "cell_type": "markdown",
   "metadata": {
    "slideshow": {
     "slide_type": "subslide"
    }
   },
   "source": [
    "# Virtual Machines Vs. Containers\n",
    "![containers_vs_VM](./images/containers-versus-virtual-machines-docker-inc-rightscale.jpg)\n",
    "\n",
    "## Virtual Machines\n",
    "* emulate whole computer system (software + hardware)\n",
    "* run on top of a physical machine using a hypervisor\n",
    "* _hypervisor_ shares and manages hardware of the host and executes the guest operating system\n",
    "* guest machines are completely isolated and have dedicated resourcesc"
   ]
  },
  {
   "cell_type": "code",
   "execution_count": null,
   "metadata": {
    "slideshow": {
     "slide_type": "subslide"
    }
   },
   "outputs": [],
   "source": []
  },
  {
   "cell_type": "markdown",
   "metadata": {
    "slideshow": {
     "slide_type": "subslide"
    }
   },
   "source": [
    "# Virtual Machines Vs. Containers\n",
    "![containers_vs_VM](./images/containers-versus-virtual-machines-docker-inc-rightscale.jpg)\n",
    "\n",
    "## Docker Containers\n",
    "* share the host system's kernel with other containers\n",
    "* each container gets its own isolated user space\n",
    "* only bins and libs are created from scratch\n",
    "* containers are very lightweight and fast to start up"
   ]
  },
  {
   "cell_type": "markdown",
   "metadata": {
    "slideshow": {
     "slide_type": "slide"
    }
   },
   "source": [
    "# Introduction"
   ]
  },
  {
   "cell_type": "markdown",
   "metadata": {
    "slideshow": {
     "slide_type": "subslide"
    }
   },
   "source": [
    "## Why do we use containers?\n",
    "\n",
    "## What are the various types of container based environments?\n",
    "\n",
    "## How to use Docker?"
   ]
  },
  {
   "cell_type": "code",
   "execution_count": null,
   "metadata": {},
   "outputs": [],
   "source": []
  },
  {
   "cell_type": "markdown",
   "metadata": {
    "slideshow": {
     "slide_type": "subslide"
    }
   },
   "source": [
    "## Container Technologies\n",
    "* Isolate the computing environments\n",
    "* Provide a mechanism to encapsulate environments in a self-contained unit that can run anywhere"
   ]
  },
  {
   "cell_type": "markdown",
   "metadata": {
    "slideshow": {
     "slide_type": "slide"
    }
   },
   "source": [
    "## Why do we need containers? \n",
    "\n",
    "## Science Reproducibility\n",
    "\n",
    "* Each Project in a lab depends on complex software environments\n",
    "    * Operating system\n",
    "    * drivers\n",
    "    * software dependencies: Python/MATLAB/R+libraries\n",
    "* We try to avoid\n",
    "    * the computer I used was shut down a year ago, can't rerun the results from my publication...\n",
    "    * the analysis were run by my student, have no idea where and how...\n",
    "    * etc.\n",
    "* Collaboration with your colleagues\n",
    "    * Sharing your code or using a repository might not be enough\n",
    "    * We try to avoid\n",
    "        * Well, I forgot to mention that you have to use Clang, gcc never worked for me...\n",
    "        * don't see any reason why it shouldn't work on Windows...(I actually have no idea about Windows, but won't say it...)\n",
    "        * it works on my coputer...\n",
    "        * etc.\n",
    "* Freedom to experiment!"
   ]
  },
  {
   "cell_type": "markdown",
   "metadata": {
    "slideshow": {
     "slide_type": "subslide"
    }
   },
   "source": [
    "# Docker\n",
    "* leading software container platform\n",
    "* an open-source project\n",
    "* it runs now on Mac OS x and Windows (you don't have to run VM!)"
   ]
  },
  {
   "cell_type": "markdown",
   "metadata": {
    "slideshow": {
     "slide_type": "fragment"
    }
   },
   "source": [
    "## Testing your Docker Installation:\n",
    "`docker run hello-world`"
   ]
  },
  {
   "cell_type": "markdown",
   "metadata": {
    "slideshow": {
     "slide_type": "fragment"
    }
   },
   "source": [
    "## Interesting tutorials and blog posts:\n",
    "\n",
    "* [A beginner friendly intro to VMs and Docker](https://medium.freecodecamp.org/a-beginner-friendly-introduction-to-containers-vms-and-docker-79a9e3e119b)\n",
    "* [Intro to Docker from Neurohackweek](https://neurohackweek.github.io/docker-for-scientists/)\n",
    "* [Understanding Images](https://code.tutsplus.com/tutorials/docker-from-the-ground-up-understanding-images--cms-28165)"
   ]
  },
  {
   "cell_type": "markdown",
   "metadata": {
    "slideshow": {
     "slide_type": "slide"
    }
   },
   "source": [
    "# Break"
   ]
  },
  {
   "cell_type": "markdown",
   "metadata": {
    "slideshow": {
     "slide_type": "slide"
    }
   },
   "source": [
    "# Deploy your App"
   ]
  },
  {
   "cell_type": "markdown",
   "metadata": {
    "slideshow": {
     "slide_type": "slide"
    }
   },
   "source": [
    "# Exercises"
   ]
  },
  {
   "cell_type": "markdown",
   "metadata": {
    "slideshow": {
     "slide_type": "subslide"
    }
   },
   "source": [
    "# Docker: Using existing images\n",
    "\n",
    "* Docker Hub -- repositories to share Docker images\n",
    "\n",
    "* managing images:\n",
    "``` \n",
    "$ docker pull ubuntu\n",
    "$ docker images\n",
    "# remove images\n",
    "$ docker rmi <image_id>\n",
    "# remove dangling images\n",
    "$ docker rmi $(docker images | grep \"^<none>\" | awk '{print $3}') \n",
    "```\n",
    "\n",
    "* running containers\n",
    "```\n",
    "$ docker run ubuntu\n",
    "$ docker run ubuntu echo \"hello from your container\"\n",
    "```\n",
    "\n",
    "* `-it` option: running interactively\n",
    "```\n",
    "$ docker run -it ubuntu bash\n",
    "```"
   ]
  },
  {
   "cell_type": "markdown",
   "metadata": {
    "slideshow": {
     "slide_type": "subslide"
    }
   },
   "source": [
    "# Docker: Using existing images\n",
    "\n",
    "* managing containers\n",
    "```\n",
    "# list currently running containers\n",
    "$ docker ps\n",
    "# list created containers\n",
    "$ docker ps -a\n",
    "# remove containers\n",
    "$ docker rm <container_id>\n",
    "# remove all stops containers\n",
    "$ docker rm $(docker ps -a -q)\n",
    "```\n",
    "\n",
    "* `--rm` option: automatically removing the container when it exits\n",
    "```\n",
    "$ docker run -it --rm ubuntu\n",
    "```\n",
    "\n",
    "* adding a data volume to a container (you can use multiple times to mount multiple data volumes)\n",
    "```\n",
    "# you should use absolute path to the LocalDirectory\n",
    "$ docker run -it --rm -v LocalDirectory:/src ubuntu\n",
    "# read only mode\n",
    "$ docker run -it --rm -v LocalDirectory:/src:ro ubuntu\n",
    "# you can mount multiple data volumes\n",
    "# the directory `temp` doesn't have to exist and will be created\n",
    "$ docker run -it --rm -v LocalDirectory:/src -v TempLocalDirectory:/temp ubuntu\n",
    "```"
   ]
  },
  {
   "cell_type": "markdown",
   "metadata": {
    "slideshow": {
     "slide_type": "subslide"
    }
   },
   "source": [
    "# Docker: Installing software with Dockerfile\n",
    "\n",
    "* Create a new directory \n",
    "```\n",
    "$ mkdir mydockerbuild\n",
    "$ cd mydockerbuild\n",
    "```\n",
    "\n",
    "* Dockerfile content:\n",
    "```\n",
    "FROM ubuntu:latest\n",
    "RUN apt-get update -y && apt-get install git emacs\n",
    "```\n",
    "\n",
    "* Building a new container:\n",
    "```\n",
    "$ docker build -t my_new_container .\n",
    "```\n",
    "\n",
    "* Running your new container:\n",
    "```\n",
    "$ docker run -it --rm my_new_container\n",
    "```\n",
    "\n",
    "* Within container you can try:\n",
    "```\n",
    "$ git\n",
    "$ emacs\n",
    "```"
   ]
  },
  {
   "cell_type": "markdown",
   "metadata": {
    "slideshow": {
     "slide_type": "slide"
    }
   },
   "source": [
    "## Census Income Data Set "
   ]
  },
  {
   "cell_type": "code",
   "execution_count": 2,
   "metadata": {
    "scrolled": true,
    "slideshow": {
     "slide_type": "slide"
    }
   },
   "outputs": [
    {
     "data": {
      "text/html": [
       "<div>\n",
       "<style scoped>\n",
       "    .dataframe tbody tr th:only-of-type {\n",
       "        vertical-align: middle;\n",
       "    }\n",
       "\n",
       "    .dataframe tbody tr th {\n",
       "        vertical-align: top;\n",
       "    }\n",
       "\n",
       "    .dataframe thead th {\n",
       "        text-align: right;\n",
       "    }\n",
       "</style>\n",
       "<table border=\"1\" class=\"dataframe\">\n",
       "  <thead>\n",
       "    <tr style=\"text-align: right;\">\n",
       "      <th></th>\n",
       "      <th>age</th>\n",
       "      <th>workclass</th>\n",
       "      <th>fnlwgt</th>\n",
       "      <th>education_level</th>\n",
       "      <th>education-num</th>\n",
       "      <th>marital-status</th>\n",
       "      <th>occupation</th>\n",
       "      <th>relationship</th>\n",
       "      <th>race</th>\n",
       "      <th>sex</th>\n",
       "      <th>capital-gain</th>\n",
       "      <th>capital-loss</th>\n",
       "      <th>hours-per-week</th>\n",
       "      <th>native-country</th>\n",
       "      <th>income</th>\n",
       "    </tr>\n",
       "  </thead>\n",
       "  <tbody>\n",
       "    <tr>\n",
       "      <th>0</th>\n",
       "      <td>39</td>\n",
       "      <td>State-gov</td>\n",
       "      <td>77516</td>\n",
       "      <td>Bachelors</td>\n",
       "      <td>13</td>\n",
       "      <td>Never-married</td>\n",
       "      <td>Adm-clerical</td>\n",
       "      <td>Not-in-family</td>\n",
       "      <td>White</td>\n",
       "      <td>Male</td>\n",
       "      <td>2174</td>\n",
       "      <td>0</td>\n",
       "      <td>40</td>\n",
       "      <td>United-States</td>\n",
       "      <td>&lt;=50K</td>\n",
       "    </tr>\n",
       "    <tr>\n",
       "      <th>1</th>\n",
       "      <td>50</td>\n",
       "      <td>Self-emp-not-inc</td>\n",
       "      <td>83311</td>\n",
       "      <td>Bachelors</td>\n",
       "      <td>13</td>\n",
       "      <td>Married-civ-spouse</td>\n",
       "      <td>Exec-managerial</td>\n",
       "      <td>Husband</td>\n",
       "      <td>White</td>\n",
       "      <td>Male</td>\n",
       "      <td>0</td>\n",
       "      <td>0</td>\n",
       "      <td>13</td>\n",
       "      <td>United-States</td>\n",
       "      <td>&lt;=50K</td>\n",
       "    </tr>\n",
       "    <tr>\n",
       "      <th>2</th>\n",
       "      <td>38</td>\n",
       "      <td>Private</td>\n",
       "      <td>215646</td>\n",
       "      <td>HS-grad</td>\n",
       "      <td>9</td>\n",
       "      <td>Divorced</td>\n",
       "      <td>Handlers-cleaners</td>\n",
       "      <td>Not-in-family</td>\n",
       "      <td>White</td>\n",
       "      <td>Male</td>\n",
       "      <td>0</td>\n",
       "      <td>0</td>\n",
       "      <td>40</td>\n",
       "      <td>United-States</td>\n",
       "      <td>&lt;=50K</td>\n",
       "    </tr>\n",
       "    <tr>\n",
       "      <th>3</th>\n",
       "      <td>53</td>\n",
       "      <td>Private</td>\n",
       "      <td>234721</td>\n",
       "      <td>11th</td>\n",
       "      <td>7</td>\n",
       "      <td>Married-civ-spouse</td>\n",
       "      <td>Handlers-cleaners</td>\n",
       "      <td>Husband</td>\n",
       "      <td>Black</td>\n",
       "      <td>Male</td>\n",
       "      <td>0</td>\n",
       "      <td>0</td>\n",
       "      <td>40</td>\n",
       "      <td>United-States</td>\n",
       "      <td>&lt;=50K</td>\n",
       "    </tr>\n",
       "    <tr>\n",
       "      <th>4</th>\n",
       "      <td>28</td>\n",
       "      <td>Private</td>\n",
       "      <td>338409</td>\n",
       "      <td>Bachelors</td>\n",
       "      <td>13</td>\n",
       "      <td>Married-civ-spouse</td>\n",
       "      <td>Prof-specialty</td>\n",
       "      <td>Wife</td>\n",
       "      <td>Black</td>\n",
       "      <td>Female</td>\n",
       "      <td>0</td>\n",
       "      <td>0</td>\n",
       "      <td>40</td>\n",
       "      <td>Cuba</td>\n",
       "      <td>&lt;=50K</td>\n",
       "    </tr>\n",
       "    <tr>\n",
       "      <th>5</th>\n",
       "      <td>37</td>\n",
       "      <td>Private</td>\n",
       "      <td>284582</td>\n",
       "      <td>Masters</td>\n",
       "      <td>14</td>\n",
       "      <td>Married-civ-spouse</td>\n",
       "      <td>Exec-managerial</td>\n",
       "      <td>Wife</td>\n",
       "      <td>White</td>\n",
       "      <td>Female</td>\n",
       "      <td>0</td>\n",
       "      <td>0</td>\n",
       "      <td>40</td>\n",
       "      <td>United-States</td>\n",
       "      <td>&lt;=50K</td>\n",
       "    </tr>\n",
       "    <tr>\n",
       "      <th>6</th>\n",
       "      <td>49</td>\n",
       "      <td>Private</td>\n",
       "      <td>160187</td>\n",
       "      <td>9th</td>\n",
       "      <td>5</td>\n",
       "      <td>Married-spouse-absent</td>\n",
       "      <td>Other-service</td>\n",
       "      <td>Not-in-family</td>\n",
       "      <td>Black</td>\n",
       "      <td>Female</td>\n",
       "      <td>0</td>\n",
       "      <td>0</td>\n",
       "      <td>16</td>\n",
       "      <td>Jamaica</td>\n",
       "      <td>&lt;=50K</td>\n",
       "    </tr>\n",
       "    <tr>\n",
       "      <th>7</th>\n",
       "      <td>52</td>\n",
       "      <td>Self-emp-not-inc</td>\n",
       "      <td>209642</td>\n",
       "      <td>HS-grad</td>\n",
       "      <td>9</td>\n",
       "      <td>Married-civ-spouse</td>\n",
       "      <td>Exec-managerial</td>\n",
       "      <td>Husband</td>\n",
       "      <td>White</td>\n",
       "      <td>Male</td>\n",
       "      <td>0</td>\n",
       "      <td>0</td>\n",
       "      <td>45</td>\n",
       "      <td>United-States</td>\n",
       "      <td>&gt;50K</td>\n",
       "    </tr>\n",
       "    <tr>\n",
       "      <th>8</th>\n",
       "      <td>31</td>\n",
       "      <td>Private</td>\n",
       "      <td>45781</td>\n",
       "      <td>Masters</td>\n",
       "      <td>14</td>\n",
       "      <td>Never-married</td>\n",
       "      <td>Prof-specialty</td>\n",
       "      <td>Not-in-family</td>\n",
       "      <td>White</td>\n",
       "      <td>Female</td>\n",
       "      <td>14084</td>\n",
       "      <td>0</td>\n",
       "      <td>50</td>\n",
       "      <td>United-States</td>\n",
       "      <td>&gt;50K</td>\n",
       "    </tr>\n",
       "    <tr>\n",
       "      <th>9</th>\n",
       "      <td>42</td>\n",
       "      <td>Private</td>\n",
       "      <td>159449</td>\n",
       "      <td>Bachelors</td>\n",
       "      <td>13</td>\n",
       "      <td>Married-civ-spouse</td>\n",
       "      <td>Exec-managerial</td>\n",
       "      <td>Husband</td>\n",
       "      <td>White</td>\n",
       "      <td>Male</td>\n",
       "      <td>5178</td>\n",
       "      <td>0</td>\n",
       "      <td>40</td>\n",
       "      <td>United-States</td>\n",
       "      <td>&gt;50K</td>\n",
       "    </tr>\n",
       "  </tbody>\n",
       "</table>\n",
       "</div>"
      ],
      "text/plain": [
       "   age          workclass  fnlwgt education_level  education-num  \\\n",
       "0   39          State-gov   77516       Bachelors             13   \n",
       "1   50   Self-emp-not-inc   83311       Bachelors             13   \n",
       "2   38            Private  215646         HS-grad              9   \n",
       "3   53            Private  234721            11th              7   \n",
       "4   28            Private  338409       Bachelors             13   \n",
       "5   37            Private  284582         Masters             14   \n",
       "6   49            Private  160187             9th              5   \n",
       "7   52   Self-emp-not-inc  209642         HS-grad              9   \n",
       "8   31            Private   45781         Masters             14   \n",
       "9   42            Private  159449       Bachelors             13   \n",
       "\n",
       "           marital-status          occupation    relationship    race  \\\n",
       "0           Never-married        Adm-clerical   Not-in-family   White   \n",
       "1      Married-civ-spouse     Exec-managerial         Husband   White   \n",
       "2                Divorced   Handlers-cleaners   Not-in-family   White   \n",
       "3      Married-civ-spouse   Handlers-cleaners         Husband   Black   \n",
       "4      Married-civ-spouse      Prof-specialty            Wife   Black   \n",
       "5      Married-civ-spouse     Exec-managerial            Wife   White   \n",
       "6   Married-spouse-absent       Other-service   Not-in-family   Black   \n",
       "7      Married-civ-spouse     Exec-managerial         Husband   White   \n",
       "8           Never-married      Prof-specialty   Not-in-family   White   \n",
       "9      Married-civ-spouse     Exec-managerial         Husband   White   \n",
       "\n",
       "       sex  capital-gain  capital-loss  hours-per-week  native-country  income  \n",
       "0     Male          2174             0              40   United-States   <=50K  \n",
       "1     Male             0             0              13   United-States   <=50K  \n",
       "2     Male             0             0              40   United-States   <=50K  \n",
       "3     Male             0             0              40   United-States   <=50K  \n",
       "4   Female             0             0              40            Cuba   <=50K  \n",
       "5   Female             0             0              40   United-States   <=50K  \n",
       "6   Female             0             0              16         Jamaica   <=50K  \n",
       "7     Male             0             0              45   United-States    >50K  \n",
       "8   Female         14084             0              50   United-States    >50K  \n",
       "9     Male          5178             0              40   United-States    >50K  "
      ]
     },
     "metadata": {},
     "output_type": "display_data"
    }
   ],
   "source": [
    "# Load the Census dataset\n",
    "orig_data = pd.read_csv(\"./Dataset/adult.data\",header=None)\n",
    "orig_data.columns = ['age','workclass','fnlwgt','education_level','education-num','marital-status','occupation','relationship','race','sex','capital-gain','capital-loss','hours-per-week','native-country','income']\n",
    "\n",
    "# Success - Display the first record\n",
    "display(orig_data.head(n=10))"
   ]
  },
  {
   "cell_type": "markdown",
   "metadata": {
    "slideshow": {
     "slide_type": "slide"
    }
   },
   "source": [
    "### Data Exploration"
   ]
  },
  {
   "cell_type": "code",
   "execution_count": 3,
   "metadata": {
    "scrolled": true,
    "slideshow": {
     "slide_type": "slide"
    }
   },
   "outputs": [
    {
     "name": "stdout",
     "output_type": "stream",
     "text": [
      "Total number of records: 32561\n",
      "Individuals making more than $50,000: 7841\n",
      "Individuals making at most $50,000: 24720\n",
      "Percentage of individuals making more than $50,000: 24.08%\n"
     ]
    }
   ],
   "source": [
    "# TODO: Total number of records\n",
    "n_records = len(orig_data)\n",
    "\n",
    "# TODO: Number of records where individual's income is more than $50,000\n",
    "n_greater_50k = len(orig_data[orig_data.income==' >50K'])\n",
    "\n",
    "# TODO: Number of records where individual's income is at most $50,000\n",
    "n_at_most_50k = len(orig_data[orig_data.income==' <=50K'])\n",
    "\n",
    "# TODO: Percentage of individuals whose income is more than $50,000\n",
    "greater_percent = n_greater_50k/n_records*100.0\n",
    "\n",
    "# TODO: Visualizations\n",
    "\n",
    "# TODO: Correlations\n",
    "\n",
    "# TODO: ANOVA\n",
    "\n",
    "# TODO: Chi-Squared tests\n",
    "\n",
    "# Print the results\n",
    "print (\"Total number of records: {}\".format(n_records))\n",
    "print (\"Individuals making more than $50,000: {}\".format(n_greater_50k))\n",
    "print (\"Individuals making at most $50,000: {}\".format(n_at_most_50k))\n",
    "print (\"Percentage of individuals making more than $50,000: {:.2f}%\".format(greater_percent))"
   ]
  },
  {
   "cell_type": "code",
   "execution_count": 29,
   "metadata": {
    "slideshow": {
     "slide_type": "subslide"
    }
   },
   "outputs": [
    {
     "data": {
      "text/plain": [
       "(32561, 15)"
      ]
     },
     "execution_count": 29,
     "metadata": {},
     "output_type": "execute_result"
    }
   ],
   "source": [
    "orig_data.shape"
   ]
  },
  {
   "cell_type": "markdown",
   "metadata": {
    "slideshow": {
     "slide_type": "slide"
    }
   },
   "source": [
    "# Change data types for categorical features"
   ]
  },
  {
   "cell_type": "code",
   "execution_count": 17,
   "metadata": {
    "scrolled": true,
    "slideshow": {
     "slide_type": "subslide"
    }
   },
   "outputs": [
    {
     "data": {
      "text/plain": [
       "0         United-States\n",
       "1         United-States\n",
       "2         United-States\n",
       "3         United-States\n",
       "4                  Cuba\n",
       "5         United-States\n",
       "6               Jamaica\n",
       "7         United-States\n",
       "8         United-States\n",
       "9         United-States\n",
       "10        United-States\n",
       "11                India\n",
       "12        United-States\n",
       "13        United-States\n",
       "14                    ?\n",
       "15               Mexico\n",
       "16        United-States\n",
       "17        United-States\n",
       "18        United-States\n",
       "19        United-States\n",
       "20        United-States\n",
       "21        United-States\n",
       "22        United-States\n",
       "23        United-States\n",
       "24        United-States\n",
       "25        United-States\n",
       "26        United-States\n",
       "27                South\n",
       "28        United-States\n",
       "29        United-States\n",
       "              ...      \n",
       "32531     United-States\n",
       "32532     United-States\n",
       "32533             Japan\n",
       "32534     United-States\n",
       "32535     United-States\n",
       "32536     United-States\n",
       "32537     United-States\n",
       "32538     United-States\n",
       "32539     United-States\n",
       "32540     United-States\n",
       "32541     United-States\n",
       "32542     United-States\n",
       "32543     United-States\n",
       "32544     United-States\n",
       "32545     United-States\n",
       "32546     United-States\n",
       "32547            Mexico\n",
       "32548     United-States\n",
       "32549     United-States\n",
       "32550     United-States\n",
       "32551     United-States\n",
       "32552     United-States\n",
       "32553            Taiwan\n",
       "32554     United-States\n",
       "32555     United-States\n",
       "32556     United-States\n",
       "32557     United-States\n",
       "32558     United-States\n",
       "32559     United-States\n",
       "32560     United-States\n",
       "Name: native-country, Length: 32561, dtype: category\n",
       "Categories (42, object): [?, Cambodia, Canada, China, ..., Trinadad&Tobago, United-States, Vietnam, Yugoslavia]"
      ]
     },
     "execution_count": 17,
     "metadata": {},
     "output_type": "execute_result"
    }
   ],
   "source": [
    "orig_data['workclass'].astype('category')\n",
    "orig_data['education_level'].astype('category')\n",
    "orig_data['marital-status'].astype('category')\n",
    "orig_data['occupation'].astype('category')\n",
    "orig_data['relationship'].astype('category')\n",
    "orig_data['race'].astype('category')\n",
    "orig_data['sex'].astype('category')\n",
    "orig_data['native-country'].astype('category')"
   ]
  },
  {
   "cell_type": "code",
   "execution_count": 20,
   "metadata": {},
   "outputs": [
    {
     "data": {
      "text/plain": [
       "age                32561\n",
       "workclass          32561\n",
       "fnlwgt             32561\n",
       "education_level    32561\n",
       "education-num      32561\n",
       "marital-status     32561\n",
       "occupation         32561\n",
       "relationship       32561\n",
       "race               32561\n",
       "sex                32561\n",
       "capital-gain       32561\n",
       "capital-loss       32561\n",
       "hours-per-week     32561\n",
       "native-country     32561\n",
       "income             32561\n",
       "dtype: int64"
      ]
     },
     "execution_count": 20,
     "metadata": {},
     "output_type": "execute_result"
    }
   ],
   "source": [
    "orig_data.groupby()"
   ]
  },
  {
   "cell_type": "code",
   "execution_count": null,
   "metadata": {},
   "outputs": [],
   "source": [
    "df_train['PassengerId'].groupby(df_train['Survived']).count()"
   ]
  },
  {
   "cell_type": "code",
   "execution_count": null,
   "metadata": {},
   "outputs": [],
   "source": []
  },
  {
   "cell_type": "markdown",
   "metadata": {},
   "source": [
    "# Correlation Matrix of Values"
   ]
  },
  {
   "cell_type": "code",
   "execution_count": 14,
   "metadata": {},
   "outputs": [
    {
     "data": {
      "text/html": [
       "<div>\n",
       "<style scoped>\n",
       "    .dataframe tbody tr th:only-of-type {\n",
       "        vertical-align: middle;\n",
       "    }\n",
       "\n",
       "    .dataframe tbody tr th {\n",
       "        vertical-align: top;\n",
       "    }\n",
       "\n",
       "    .dataframe thead th {\n",
       "        text-align: right;\n",
       "    }\n",
       "</style>\n",
       "<table border=\"1\" class=\"dataframe\">\n",
       "  <thead>\n",
       "    <tr style=\"text-align: right;\">\n",
       "      <th></th>\n",
       "      <th>age</th>\n",
       "      <th>fnlwgt</th>\n",
       "      <th>education-num</th>\n",
       "      <th>capital-gain</th>\n",
       "      <th>capital-loss</th>\n",
       "      <th>hours-per-week</th>\n",
       "    </tr>\n",
       "  </thead>\n",
       "  <tbody>\n",
       "    <tr>\n",
       "      <th>age</th>\n",
       "      <td>1.000000</td>\n",
       "      <td>-0.076646</td>\n",
       "      <td>0.036527</td>\n",
       "      <td>0.077674</td>\n",
       "      <td>0.057775</td>\n",
       "      <td>0.068756</td>\n",
       "    </tr>\n",
       "    <tr>\n",
       "      <th>fnlwgt</th>\n",
       "      <td>-0.076646</td>\n",
       "      <td>1.000000</td>\n",
       "      <td>-0.043195</td>\n",
       "      <td>0.000432</td>\n",
       "      <td>-0.010252</td>\n",
       "      <td>-0.018768</td>\n",
       "    </tr>\n",
       "    <tr>\n",
       "      <th>education-num</th>\n",
       "      <td>0.036527</td>\n",
       "      <td>-0.043195</td>\n",
       "      <td>1.000000</td>\n",
       "      <td>0.122630</td>\n",
       "      <td>0.079923</td>\n",
       "      <td>0.148123</td>\n",
       "    </tr>\n",
       "    <tr>\n",
       "      <th>capital-gain</th>\n",
       "      <td>0.077674</td>\n",
       "      <td>0.000432</td>\n",
       "      <td>0.122630</td>\n",
       "      <td>1.000000</td>\n",
       "      <td>-0.031615</td>\n",
       "      <td>0.078409</td>\n",
       "    </tr>\n",
       "    <tr>\n",
       "      <th>capital-loss</th>\n",
       "      <td>0.057775</td>\n",
       "      <td>-0.010252</td>\n",
       "      <td>0.079923</td>\n",
       "      <td>-0.031615</td>\n",
       "      <td>1.000000</td>\n",
       "      <td>0.054256</td>\n",
       "    </tr>\n",
       "    <tr>\n",
       "      <th>hours-per-week</th>\n",
       "      <td>0.068756</td>\n",
       "      <td>-0.018768</td>\n",
       "      <td>0.148123</td>\n",
       "      <td>0.078409</td>\n",
       "      <td>0.054256</td>\n",
       "      <td>1.000000</td>\n",
       "    </tr>\n",
       "  </tbody>\n",
       "</table>\n",
       "</div>"
      ],
      "text/plain": [
       "                     age    fnlwgt  education-num  capital-gain  capital-loss  \\\n",
       "age             1.000000 -0.076646       0.036527      0.077674      0.057775   \n",
       "fnlwgt         -0.076646  1.000000      -0.043195      0.000432     -0.010252   \n",
       "education-num   0.036527 -0.043195       1.000000      0.122630      0.079923   \n",
       "capital-gain    0.077674  0.000432       0.122630      1.000000     -0.031615   \n",
       "capital-loss    0.057775 -0.010252       0.079923     -0.031615      1.000000   \n",
       "hours-per-week  0.068756 -0.018768       0.148123      0.078409      0.054256   \n",
       "\n",
       "                hours-per-week  \n",
       "age                   0.068756  \n",
       "fnlwgt               -0.018768  \n",
       "education-num         0.148123  \n",
       "capital-gain          0.078409  \n",
       "capital-loss          0.054256  \n",
       "hours-per-week        1.000000  "
      ]
     },
     "execution_count": 14,
     "metadata": {},
     "output_type": "execute_result"
    }
   ],
   "source": [
    "orig_data.corr()"
   ]
  },
  {
   "cell_type": "markdown",
   "metadata": {},
   "source": [
    "# Covariance Matrix of Values"
   ]
  },
  {
   "cell_type": "code",
   "execution_count": 16,
   "metadata": {},
   "outputs": [
    {
     "data": {
      "text/html": [
       "<div>\n",
       "<style scoped>\n",
       "    .dataframe tbody tr th:only-of-type {\n",
       "        vertical-align: middle;\n",
       "    }\n",
       "\n",
       "    .dataframe tbody tr th {\n",
       "        vertical-align: top;\n",
       "    }\n",
       "\n",
       "    .dataframe thead th {\n",
       "        text-align: right;\n",
       "    }\n",
       "</style>\n",
       "<table border=\"1\" class=\"dataframe\">\n",
       "  <thead>\n",
       "    <tr style=\"text-align: right;\">\n",
       "      <th></th>\n",
       "      <th>age</th>\n",
       "      <th>fnlwgt</th>\n",
       "      <th>education-num</th>\n",
       "      <th>capital-gain</th>\n",
       "      <th>capital-loss</th>\n",
       "      <th>hours-per-week</th>\n",
       "    </tr>\n",
       "  </thead>\n",
       "  <tbody>\n",
       "    <tr>\n",
       "      <th>age</th>\n",
       "      <td>186.061400</td>\n",
       "      <td>-1.103507e+05</td>\n",
       "      <td>1.281849</td>\n",
       "      <td>7.824819e+03</td>\n",
       "      <td>317.560742</td>\n",
       "      <td>11.580130</td>\n",
       "    </tr>\n",
       "    <tr>\n",
       "      <th>fnlwgt</th>\n",
       "      <td>-110350.685300</td>\n",
       "      <td>1.114080e+10</td>\n",
       "      <td>-11729.527298</td>\n",
       "      <td>3.366625e+05</td>\n",
       "      <td>-436030.333167</td>\n",
       "      <td>-24460.426185</td>\n",
       "    </tr>\n",
       "    <tr>\n",
       "      <th>education-num</th>\n",
       "      <td>1.281849</td>\n",
       "      <td>-1.172953e+04</td>\n",
       "      <td>6.618890</td>\n",
       "      <td>2.330008e+03</td>\n",
       "      <td>82.856445</td>\n",
       "      <td>4.705338</td>\n",
       "    </tr>\n",
       "    <tr>\n",
       "      <th>capital-gain</th>\n",
       "      <td>7824.818537</td>\n",
       "      <td>3.366625e+05</td>\n",
       "      <td>2330.007877</td>\n",
       "      <td>5.454254e+07</td>\n",
       "      <td>-94085.760688</td>\n",
       "      <td>7150.032029</td>\n",
       "    </tr>\n",
       "    <tr>\n",
       "      <th>capital-loss</th>\n",
       "      <td>317.560742</td>\n",
       "      <td>-4.360303e+05</td>\n",
       "      <td>82.856445</td>\n",
       "      <td>-9.408576e+04</td>\n",
       "      <td>162376.937814</td>\n",
       "      <td>269.953755</td>\n",
       "    </tr>\n",
       "    <tr>\n",
       "      <th>hours-per-week</th>\n",
       "      <td>11.580130</td>\n",
       "      <td>-2.446043e+04</td>\n",
       "      <td>4.705338</td>\n",
       "      <td>7.150032e+03</td>\n",
       "      <td>269.953755</td>\n",
       "      <td>152.458995</td>\n",
       "    </tr>\n",
       "  </tbody>\n",
       "</table>\n",
       "</div>"
      ],
      "text/plain": [
       "                          age        fnlwgt  education-num  capital-gain  \\\n",
       "age                186.061400 -1.103507e+05       1.281849  7.824819e+03   \n",
       "fnlwgt         -110350.685300  1.114080e+10  -11729.527298  3.366625e+05   \n",
       "education-num        1.281849 -1.172953e+04       6.618890  2.330008e+03   \n",
       "capital-gain      7824.818537  3.366625e+05    2330.007877  5.454254e+07   \n",
       "capital-loss       317.560742 -4.360303e+05      82.856445 -9.408576e+04   \n",
       "hours-per-week      11.580130 -2.446043e+04       4.705338  7.150032e+03   \n",
       "\n",
       "                 capital-loss  hours-per-week  \n",
       "age                317.560742       11.580130  \n",
       "fnlwgt         -436030.333167   -24460.426185  \n",
       "education-num       82.856445        4.705338  \n",
       "capital-gain    -94085.760688     7150.032029  \n",
       "capital-loss    162376.937814      269.953755  \n",
       "hours-per-week     269.953755      152.458995  "
      ]
     },
     "execution_count": 16,
     "metadata": {},
     "output_type": "execute_result"
    }
   ],
   "source": [
    "orig_data.cov()"
   ]
  },
  {
   "cell_type": "markdown",
   "metadata": {},
   "source": [
    "# Age"
   ]
  },
  {
   "cell_type": "code",
   "execution_count": 11,
   "metadata": {},
   "outputs": [
    {
     "name": "stdout",
     "output_type": "stream",
     "text": [
      "Overall: count    32561.000000\n",
      "mean        38.581647\n",
      "std         13.640433\n",
      "min         17.000000\n",
      "25%         28.000000\n",
      "50%         37.000000\n",
      "75%         48.000000\n",
      "max         90.000000\n",
      "Name: age, dtype: float64\n"
     ]
    }
   ],
   "source": [
    "age_describe = orig_data.age\n",
    "print('Overall:',age_describe.describe())"
   ]
  },
  {
   "cell_type": "markdown",
   "metadata": {},
   "source": [
    "# workclass"
   ]
  },
  {
   "cell_type": "code",
   "execution_count": 13,
   "metadata": {},
   "outputs": [
    {
     "name": "stdout",
     "output_type": "stream",
     "text": [
      "Overall: count        32561\n",
      "unique           9\n",
      "top        Private\n",
      "freq         22696\n",
      "Name: workclass, dtype: object\n"
     ]
    }
   ],
   "source": [
    "workclass_describe = orig_data.workclass\n",
    "print('Overall:',workclass_describe.describe())"
   ]
  },
  {
   "cell_type": "code",
   "execution_count": null,
   "metadata": {},
   "outputs": [],
   "source": [
    "# education_level\n",
    "\n"
   ]
  },
  {
   "cell_type": "code",
   "execution_count": null,
   "metadata": {},
   "outputs": [],
   "source": [
    "# education-num\n",
    "\n"
   ]
  },
  {
   "cell_type": "code",
   "execution_count": null,
   "metadata": {},
   "outputs": [],
   "source": [
    "# marital-status\n",
    "\n"
   ]
  },
  {
   "cell_type": "code",
   "execution_count": null,
   "metadata": {},
   "outputs": [],
   "source": [
    "# occupation\n",
    "\n"
   ]
  },
  {
   "cell_type": "code",
   "execution_count": null,
   "metadata": {},
   "outputs": [],
   "source": [
    "# relationship\n",
    "\n"
   ]
  },
  {
   "cell_type": "code",
   "execution_count": null,
   "metadata": {},
   "outputs": [],
   "source": [
    "# race\n",
    "\n"
   ]
  },
  {
   "cell_type": "code",
   "execution_count": null,
   "metadata": {},
   "outputs": [],
   "source": [
    "# sex\n",
    "\n"
   ]
  },
  {
   "cell_type": "code",
   "execution_count": null,
   "metadata": {},
   "outputs": [],
   "source": [
    "# capital-gain\n",
    "\n"
   ]
  },
  {
   "cell_type": "code",
   "execution_count": null,
   "metadata": {},
   "outputs": [],
   "source": [
    "# capital-loss\n",
    "\n"
   ]
  },
  {
   "cell_type": "code",
   "execution_count": null,
   "metadata": {},
   "outputs": [],
   "source": [
    "# hours-per-week\n",
    "\n"
   ]
  },
  {
   "cell_type": "code",
   "execution_count": null,
   "metadata": {},
   "outputs": [],
   "source": [
    "# native-countr"
   ]
  },
  {
   "cell_type": "markdown",
   "metadata": {},
   "source": [
    "## modified census dataset "
   ]
  },
  {
   "cell_type": "markdown",
   "metadata": {},
   "source": [
    "The modified census dataset consists of approximately 32,000 data points, with each datapoint having 13 features. This dataset is a modified version of the dataset published in the paper \"Scaling Up the Accuracy of Naive-Bayes Classifiers: a Decision-Tree Hybrid\", by Ron Kohavi. You may find this paper online, with the original dataset hosted on UCI."
   ]
  },
  {
   "cell_type": "markdown",
   "metadata": {},
   "source": [
    "#### Features\n",
    "\n",
    "**age**: Age\n",
    "\n",
    "**workclass**: Working Class (Private, Self-emp-not-inc, Self-emp-inc, Federal-gov, Local-gov, State-gov, Without-pay, Never-worked)\n",
    "\n",
    "**fnlwgt**: continuous\n",
    "\n",
    "**education_level**: Level of Education (Bachelors, Some-college, 11th, HS-grad, Prof-school, Assoc-acdm, Assoc-voc, 9th, 7th-8th, 12th, Masters, 1st-4th, 10th, Doctorate, 5th-6th, Preschool)\n",
    "\n",
    "**education-num**: Number of educational years completed\n",
    "\n",
    "**marital-status**: Marital status (Married-civ-spouse, Divorced, Never-married, Separated, Widowed, Married-spouse-absent, Married-AF-spouse)\n",
    "\n",
    "**occupation**: Work Occupation (Tech-support, Craft-repair, Other-service, Sales, Exec-managerial, Prof-specialty, Handlers-cleaners, Machine-op-inspct, Adm-clerical, Farming-fishing, Transport-moving, Priv-house-serv, Protective-serv, Armed-Forces)\n",
    "\n",
    "**relationship**: Relationship Status (Wife, Own-child, Husband, Not-in-family, Other-relative, Unmarried)\n",
    "\n",
    "**race**: Race (White, Asian-Pac-Islander, Amer-Indian-Eskimo, Other, Black)\n",
    "\n",
    "**sex**: Sex (Female, Male)\n",
    "\n",
    "**capital-gain**: Monetary Capital Gains\n",
    "\n",
    "**capital-loss**: Monetary Capital Losses\n",
    "\n",
    "**hours-per-week**: Average Hours Per Week Worked\n",
    "\n",
    "**native-country**: Native Country (United-States, Cambodia, England, Puerto-Rico, Canada, Germany, Outlying-US(Guam-USVI-etc), India, Japan, Greece, South, China, Cuba, Iran, Honduras, Philippines, Italy, Poland, Jamaica, Vietnam, Mexico, Portugal, Ireland, France, Dominican-Republic, Laos, Ecuador, Taiwan, Haiti, Columbia, Hungary, Guatemala, Nicaragua, Scotland, Thailand, Yugoslavia, El-Salvador, Trinadad&Tobago, Peru, Hong, Holand-Netherlands)\n",
    "\n",
    "### Target Variable\n",
    "\n",
    "**income**: Income Class (<=50K, >50K)"
   ]
  },
  {
   "cell_type": "code",
   "execution_count": 13,
   "metadata": {},
   "outputs": [
    {
     "data": {
      "text/html": [
       "<div>\n",
       "<style scoped>\n",
       "    .dataframe tbody tr th:only-of-type {\n",
       "        vertical-align: middle;\n",
       "    }\n",
       "\n",
       "    .dataframe tbody tr th {\n",
       "        vertical-align: top;\n",
       "    }\n",
       "\n",
       "    .dataframe thead th {\n",
       "        text-align: right;\n",
       "    }\n",
       "</style>\n",
       "<table border=\"1\" class=\"dataframe\">\n",
       "  <thead>\n",
       "    <tr style=\"text-align: right;\">\n",
       "      <th></th>\n",
       "      <th>age</th>\n",
       "      <th>workclass</th>\n",
       "      <th>education_level</th>\n",
       "      <th>education-num</th>\n",
       "      <th>marital-status</th>\n",
       "      <th>occupation</th>\n",
       "      <th>relationship</th>\n",
       "      <th>race</th>\n",
       "      <th>sex</th>\n",
       "      <th>capital-gain</th>\n",
       "      <th>capital-loss</th>\n",
       "      <th>hours-per-week</th>\n",
       "      <th>native-country</th>\n",
       "      <th>income</th>\n",
       "    </tr>\n",
       "  </thead>\n",
       "  <tbody>\n",
       "    <tr>\n",
       "      <th>0</th>\n",
       "      <td>39</td>\n",
       "      <td>State-gov</td>\n",
       "      <td>Bachelors</td>\n",
       "      <td>13.0</td>\n",
       "      <td>Never-married</td>\n",
       "      <td>Adm-clerical</td>\n",
       "      <td>Not-in-family</td>\n",
       "      <td>White</td>\n",
       "      <td>Male</td>\n",
       "      <td>2174.0</td>\n",
       "      <td>0.0</td>\n",
       "      <td>40.0</td>\n",
       "      <td>United-States</td>\n",
       "      <td>&lt;=50K</td>\n",
       "    </tr>\n",
       "    <tr>\n",
       "      <th>1</th>\n",
       "      <td>50</td>\n",
       "      <td>Self-emp-not-inc</td>\n",
       "      <td>Bachelors</td>\n",
       "      <td>13.0</td>\n",
       "      <td>Married-civ-spouse</td>\n",
       "      <td>Exec-managerial</td>\n",
       "      <td>Husband</td>\n",
       "      <td>White</td>\n",
       "      <td>Male</td>\n",
       "      <td>0.0</td>\n",
       "      <td>0.0</td>\n",
       "      <td>13.0</td>\n",
       "      <td>United-States</td>\n",
       "      <td>&lt;=50K</td>\n",
       "    </tr>\n",
       "    <tr>\n",
       "      <th>2</th>\n",
       "      <td>38</td>\n",
       "      <td>Private</td>\n",
       "      <td>HS-grad</td>\n",
       "      <td>9.0</td>\n",
       "      <td>Divorced</td>\n",
       "      <td>Handlers-cleaners</td>\n",
       "      <td>Not-in-family</td>\n",
       "      <td>White</td>\n",
       "      <td>Male</td>\n",
       "      <td>0.0</td>\n",
       "      <td>0.0</td>\n",
       "      <td>40.0</td>\n",
       "      <td>United-States</td>\n",
       "      <td>&lt;=50K</td>\n",
       "    </tr>\n",
       "    <tr>\n",
       "      <th>3</th>\n",
       "      <td>53</td>\n",
       "      <td>Private</td>\n",
       "      <td>11th</td>\n",
       "      <td>7.0</td>\n",
       "      <td>Married-civ-spouse</td>\n",
       "      <td>Handlers-cleaners</td>\n",
       "      <td>Husband</td>\n",
       "      <td>Black</td>\n",
       "      <td>Male</td>\n",
       "      <td>0.0</td>\n",
       "      <td>0.0</td>\n",
       "      <td>40.0</td>\n",
       "      <td>United-States</td>\n",
       "      <td>&lt;=50K</td>\n",
       "    </tr>\n",
       "    <tr>\n",
       "      <th>4</th>\n",
       "      <td>28</td>\n",
       "      <td>Private</td>\n",
       "      <td>Bachelors</td>\n",
       "      <td>13.0</td>\n",
       "      <td>Married-civ-spouse</td>\n",
       "      <td>Prof-specialty</td>\n",
       "      <td>Wife</td>\n",
       "      <td>Black</td>\n",
       "      <td>Female</td>\n",
       "      <td>0.0</td>\n",
       "      <td>0.0</td>\n",
       "      <td>40.0</td>\n",
       "      <td>Cuba</td>\n",
       "      <td>&lt;=50K</td>\n",
       "    </tr>\n",
       "  </tbody>\n",
       "</table>\n",
       "</div>"
      ],
      "text/plain": [
       "   age          workclass education_level  education-num       marital-status  \\\n",
       "0   39          State-gov       Bachelors           13.0        Never-married   \n",
       "1   50   Self-emp-not-inc       Bachelors           13.0   Married-civ-spouse   \n",
       "2   38            Private         HS-grad            9.0             Divorced   \n",
       "3   53            Private            11th            7.0   Married-civ-spouse   \n",
       "4   28            Private       Bachelors           13.0   Married-civ-spouse   \n",
       "\n",
       "           occupation    relationship    race      sex  capital-gain  \\\n",
       "0        Adm-clerical   Not-in-family   White     Male        2174.0   \n",
       "1     Exec-managerial         Husband   White     Male           0.0   \n",
       "2   Handlers-cleaners   Not-in-family   White     Male           0.0   \n",
       "3   Handlers-cleaners         Husband   Black     Male           0.0   \n",
       "4      Prof-specialty            Wife   Black   Female           0.0   \n",
       "\n",
       "   capital-loss  hours-per-week  native-country income  \n",
       "0           0.0            40.0   United-States  <=50K  \n",
       "1           0.0            13.0   United-States  <=50K  \n",
       "2           0.0            40.0   United-States  <=50K  \n",
       "3           0.0            40.0   United-States  <=50K  \n",
       "4           0.0            40.0            Cuba  <=50K  "
      ]
     },
     "metadata": {},
     "output_type": "display_data"
    }
   ],
   "source": [
    "# Load the Census dataset\n",
    "data = pd.read_csv(\"./Finding-Donors-for-CharityML/census.csv\")\n",
    "\n",
    "# Success - Display the first record\n",
    "display(data.head(n=5))"
   ]
  },
  {
   "cell_type": "code",
   "execution_count": 12,
   "metadata": {},
   "outputs": [
    {
     "data": {
      "text/plain": [
       "(45222, 14)"
      ]
     },
     "execution_count": 12,
     "metadata": {},
     "output_type": "execute_result"
    }
   ],
   "source": [
    "data.shape"
   ]
  },
  {
   "cell_type": "code",
   "execution_count": 61,
   "metadata": {},
   "outputs": [
    {
     "name": "stdout",
     "output_type": "stream",
     "text": [
      "Total number of records: 45222\n",
      "Individuals making more than $50,000: 11208\n",
      "Individuals making at most $50,000: 34014\n",
      "Percentage of individuals making more than $50,000: 24.78%\n"
     ]
    }
   ],
   "source": [
    "# TODO: Total number of records\n",
    "n_records = len(data)\n",
    "\n",
    "# TODO: Number of records where individual's income is more than $50,000\n",
    "n_greater_50k = len(data[data.income==\">50K\"])\n",
    "\n",
    "# TODO: Number of records where individual's income is at most $50,000\n",
    "n_at_most_50k = len(data[data.income==\"<=50K\"])\n",
    "\n",
    "# TODO: Percentage of individuals whose income is more than $50,000\n",
    "greater_percent = n_greater_50k/n_records*100.0\n",
    "\n",
    "# Print the results\n",
    "print (\"Total number of records: {}\".format(n_records))\n",
    "print (\"Individuals making more than $50,000: {}\".format(n_greater_50k))\n",
    "print (\"Individuals making at most $50,000: {}\".format(n_at_most_50k))\n",
    "print (\"Percentage of individuals making more than $50,000: {:.2f}%\".format(greater_percent))"
   ]
  }
 ],
 "metadata": {
  "celltoolbar": "Slideshow",
  "kernelspec": {
   "display_name": "Python 3",
   "language": "python",
   "name": "python3"
  },
  "language_info": {
   "codemirror_mode": {
    "name": "ipython",
    "version": 3
   },
   "file_extension": ".py",
   "mimetype": "text/x-python",
   "name": "python",
   "nbconvert_exporter": "python",
   "pygments_lexer": "ipython3",
   "version": "3.6.3"
  }
 },
 "nbformat": 4,
 "nbformat_minor": 2
}
