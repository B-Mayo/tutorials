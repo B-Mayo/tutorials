{
 "cells": [
  {
   "cell_type": "code",
   "execution_count": 1,
   "metadata": {},
   "outputs": [],
   "source": [
    "import os\n",
    "import subprocess\n",
    "import tarfile\n",
    "import urllib\n",
    "\n",
    "import checker"
   ]
  },
  {
   "cell_type": "markdown",
   "metadata": {},
   "source": [
    "Download and create the data files by running the code below."
   ]
  },
  {
   "cell_type": "code",
   "execution_count": 2,
   "metadata": {},
   "outputs": [],
   "source": [
    "mini_20newsgroup_url = (\n",
    "    \"https://archive.ics.uci.edu/ml/machine-learning-databases\"\n",
    "    \"/20newsgroups-mld/mini_newsgroups.tar.gz\")\n",
    "\n",
    "with urllib.request.urlopen(mini_20newsgroup_url) as response:\n",
    "    page_data = response.read()\n",
    "    with open('newsgroups.tar.gz', 'wb') as fout:\n",
    "        fout.write(page_data)\n",
    "    os.makedirs('data', exist_ok=True)\n",
    "    with tarfile.open('newsgroups.tar.gz') as tfin:\n",
    "        tfin.extractall(path='data')"
   ]
  },
  {
   "cell_type": "code",
   "execution_count": 3,
   "metadata": {},
   "outputs": [],
   "source": [
    "base_data_dir = os.path.join(os.getcwd(), 'data')\n",
    "newsgroups_data_dir = os.path.join(base_data_dir, 'mini_newsgroups')"
   ]
  },
  {
   "cell_type": "markdown",
   "metadata": {},
   "source": [
    "Several folders should now be visible under \"mini_newsgroups\""
   ]
  },
  {
   "cell_type": "code",
   "execution_count": 4,
   "metadata": {},
   "outputs": [
    {
     "data": {
      "text/plain": [
       "['talk.politics.mideast',\n",
       " 'rec.autos',\n",
       " 'comp.sys.mac.hardware',\n",
       " 'alt.atheism',\n",
       " 'rec.sport.baseball',\n",
       " 'comp.os.ms-windows.misc',\n",
       " 'rec.sport.hockey',\n",
       " 'sci.crypt',\n",
       " 'sci.med',\n",
       " 'talk.politics.misc',\n",
       " 'rec.motorcycles',\n",
       " 'comp.windows.x',\n",
       " 'comp.graphics',\n",
       " 'comp.sys.ibm.pc.hardware',\n",
       " 'sci.electronics',\n",
       " 'talk.politics.guns',\n",
       " 'sci.space',\n",
       " 'soc.religion.christian',\n",
       " 'misc.forsale',\n",
       " 'talk.religion.misc']"
      ]
     },
     "execution_count": 4,
     "metadata": {},
     "output_type": "execute_result"
    }
   ],
   "source": [
    "os.listdir(newsgroups_data_dir)"
   ]
  },
  {
   "cell_type": "code",
   "execution_count": 5,
   "metadata": {},
   "outputs": [],
   "source": [
    "files = []\n",
    "for (dirpath, dirnames, filenames) in os.walk(newsgroups_data_dir):\n",
    "    files.extend([os.path.join(dirpath, file) for file in filenames])"
   ]
  },
  {
   "cell_type": "markdown",
   "metadata": {},
   "source": [
    "## Problem 1: Create document labels\n",
    "\n",
    "In order to do classification of emails by topic, each email needs to be labelled with the news groups it was sent in. The news group of each email corresponds to the folder (additional newsgroups are availabe within the email but will be ignored) the email file is in. The labels will be a number 0-19 representing the newsgroups in sorted order, i.e.\n",
    "\n",
    "    alt.atheism -> 0\n",
    "    comp.graphics -> 1\n",
    "    ...\n",
    "    talk.politics.misc -> 18\n",
    "    talk.religion.misc -> 19\n",
    "\n",
    "Build a Docker image called `newsgroups` that produces a CSV file `data/labels.csv` in the format shown below when run with the arguments `label.py`:\n",
    "\n",
    "    filename,label\n",
    "    alt.atheism/51121,0\n",
    "    ..."
   ]
  },
  {
   "cell_type": "code",
   "execution_count": 20,
   "metadata": {},
   "outputs": [],
   "source": [
    "import pandas as pd\n",
    "files = os.listdir(newsgroups_data_dir)"
   ]
  },
  {
   "cell_type": "code",
   "execution_count": 28,
   "metadata": {},
   "outputs": [],
   "source": [
    "df['filename'] = pd.DataFrame(files)"
   ]
  },
  {
   "cell_type": "code",
   "execution_count": 38,
   "metadata": {},
   "outputs": [],
   "source": [
    "df['label'] = list(range(len(files)))"
   ]
  },
  {
   "cell_type": "code",
   "execution_count": 42,
   "metadata": {},
   "outputs": [
    {
     "data": {
      "text/plain": [
       "'/Users/mosadoluwaobatusin/Documents/Projects/Anidata/tutorials/data-engineering'"
      ]
     },
     "execution_count": 42,
     "metadata": {},
     "output_type": "execute_result"
    }
   ],
   "source": [
    "pwd"
   ]
  },
  {
   "cell_type": "code",
   "execution_count": 43,
   "metadata": {},
   "outputs": [],
   "source": [
    "df.to_csv('./data/labels.csv')"
   ]
  },
  {
   "cell_type": "code",
   "execution_count": 7,
   "metadata": {},
   "outputs": [
    {
     "name": "stdout",
     "output_type": "stream",
     "text": [
      "Return code (0 is good): 125\n",
      "stdout:\n",
      "\n",
      "stderr:\n",
      "Unable to find image 'newsgroups:latest' locally\n",
      "docker: Error response from daemon: pull access denied for newsgroups, repository does not exist or may require 'docker login'.\n",
      "See 'docker run --help'.\n",
      "\n"
     ]
    }
   ],
   "source": [
    "# Run Docker container based on image `newsgroups`\n",
    "command = \"docker run --rm -v {0}:/data newsgroups label.py\".format(base_data_dir)\n",
    "result = subprocess.run(command.split(\" \"), stdout=subprocess.PIPE, stderr=subprocess.PIPE)\n",
    "\n",
    "# Output result of running command\n",
    "print(\"Return code (0 is good): \" + str(result.returncode))\n",
    "print(\"stdout:\\n\" + result.stdout.decode(\"utf-8\"))\n",
    "print(\"stderr:\\n\" + result.stderr.decode(\"utf-8\"))"
   ]
  },
  {
   "cell_type": "code",
   "execution_count": null,
   "metadata": {},
   "outputs": [],
   "source": [
    "checker.csv_match('data/labels.csv', 'solutions/labels.csv')\n",
    "print(\"Everything looks good!\")"
   ]
  },
  {
   "cell_type": "markdown",
   "metadata": {},
   "source": [
    "## Problem 2: Email as bag-of-words\n",
    "\n",
    "Convert each email into a bag-of-words representation. This kind of representation is frequently used to represent text documents in preparation for classification models. Produce a `npz` file which contains one row per email (emails sorted alphabetically according file path) and one column per unique word (sorted alphabetically) with the value being the number of times the word was used in the email. You will need to stored this table as a sparse matrix.\n",
    "\n",
    "Update the Docker image from Problem 1 so that it produces a `npz` file at `data/count.npz` when call with the argument `bag.py`.\n",
    "\n",
    "See https://docs.scipy.org/doc/scipy/reference/generated/scipy.sparse.save_npz.html how to save a sparse matrix as an `npz` file.\n",
    "\n",
    "NOTE: If you are seeing some kind of decoding error (e.g. `UnicodeDecodeError`) the files are encoded as `latin-1`."
   ]
  },
  {
   "cell_type": "code",
   "execution_count": null,
   "metadata": {},
   "outputs": [],
   "source": [
    "# Run Docker container based on image `newsgroups`\n",
    "command = \"docker run --rm -v {0}:/data newsgroups bag.py\".format(base_data_dir)\n",
    "result = subprocess.run(command.split(\" \"), stdout=subprocess.PIPE, stderr=subprocess.PIPE)\n",
    "\n",
    "# Output result of running command\n",
    "print(\"Return code (0 is good): \" + str(result.returncode))\n",
    "print(\"stdout:\\n\" + result.stdout.decode(\"utf-8\"))\n",
    "print(\"stderr:\\n\" + result.stderr.decode(\"utf-8\"))"
   ]
  },
  {
   "cell_type": "code",
   "execution_count": null,
   "metadata": {},
   "outputs": [],
   "source": [
    "checker.sparse_npz_match('data/count.npz', 'solutions/count.npz')\n",
    "print(\"Everything looks good!\")"
   ]
  }
 ],
 "metadata": {
  "kernelspec": {
   "display_name": "Python 3",
   "language": "python",
   "name": "python3"
  },
  "language_info": {
   "codemirror_mode": {
    "name": "ipython",
    "version": 3
   },
   "file_extension": ".py",
   "mimetype": "text/x-python",
   "name": "python",
   "nbconvert_exporter": "python",
   "pygments_lexer": "ipython3",
   "version": "3.6.3"
  }
 },
 "nbformat": 4,
 "nbformat_minor": 2
}
