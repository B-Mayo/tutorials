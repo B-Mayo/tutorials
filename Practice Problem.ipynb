{
 "cells": [
  {
   "cell_type": "code",
   "execution_count": null,
   "metadata": {
    "collapsed": true
   },
   "outputs": [],
   "source": [
    "import requests\n",
    "import tarfile\n",
    "import os\n",
    "import subprocess\n",
    "\n",
    "import checker"
   ]
  },
  {
   "cell_type": "markdown",
   "metadata": {},
   "source": [
    "Download and create the data files by running the code below."
   ]
  },
  {
   "cell_type": "code",
   "execution_count": null,
   "metadata": {
    "collapsed": true
   },
   "outputs": [],
   "source": [
    "mini_20newsgroup_url = (\n",
    "    \"https://archive.ics.uci.edu/ml/machine-learning-databases\"\n",
    "    \"/20newsgroups-mld/mini_newsgroups.tar.gz\")\n",
    "\n",
    "response = requests.get(mini_20newsgroup_url)\n",
    "\n",
    "with open('newsgroups.tar.gz', 'wb') as fout:\n",
    "    fout.write(response.content)\n",
    "os.makedirs('data', exist_ok=True)\n",
    "with tarfile.open('newsgroups.tar.gz') as tfin:\n",
    "    tfin.extractall(path='data')"
   ]
  },
  {
   "cell_type": "code",
   "execution_count": null,
   "metadata": {
    "collapsed": true
   },
   "outputs": [],
   "source": [
    "base_data_dir = os.path.join(os.getcwd(), 'data')\n",
    "newsgroups_data_dir = os.path.join(base_data_dir, 'mini_newsgroups')"
   ]
  },
  {
   "cell_type": "markdown",
   "metadata": {},
   "source": [
    "Several folders should now be visible under \"mini_newsgroups\""
   ]
  },
  {
   "cell_type": "code",
   "execution_count": null,
   "metadata": {},
   "outputs": [],
   "source": [
    "os.listdir(newsgroups_data_dir)"
   ]
  },
  {
   "cell_type": "code",
   "execution_count": null,
   "metadata": {},
   "outputs": [],
   "source": [
    "files = []\n",
    "for (dirpath, dirnames, filenames) in os.walk(newsgroups_data_dir):\n",
    "    files.extend([os.path.join(dirpath, file) for file in filenames])"
   ]
  },
  {
   "cell_type": "markdown",
   "metadata": {},
   "source": [
    "## Problem 1: Create document labels\n",
    "\n",
    "In order to do classification of emails by topic, each email needs to be labelled with the news groups it was sent in. The news group of each email corresponds to the folder (additional newsgroups are availabe within the email but will be ignored) the email file is in. The labels will be a number 0-19 representing the newsgroups in sorted order, i.e.\n",
    "\n",
    "    alt.atheism -> 0\n",
    "    comp.graphics -> 1\n",
    "    ...\n",
    "    talk.politics.misc -> 18\n",
    "    talk.religion.misc -> 19\n",
    "\n",
    "Build a Docker image called `newsgroups` that produces a CSV file `data/labels.csv` in the format shown below when run with the arguments `label.py`:\n",
    "\n",
    "    filename,label\n",
    "    alt.atheism/51121,0\n",
    "    ..."
   ]
  },
  {
   "cell_type": "code",
   "execution_count": null,
   "metadata": {},
   "outputs": [],
   "source": [
    "# Run Docker container based on image `newsgroups`\n",
    "command = \"docker run --rm -v {0}:/data newsgroups label.py\".format(base_data_dir)\n",
    "result = subprocess.run(command.split(\" \"), stdout=subprocess.PIPE, stderr=subprocess.PIPE)\n",
    "\n",
    "# Output result of running command\n",
    "print(\"Return code (0 is good): \" + str(result.returncode))\n",
    "print(\"stdout:\\n\" + result.stdout.decode(\"utf-8\"))\n",
    "print(\"stderr:\\n\" + result.stderr.decode(\"utf-8\"))"
   ]
  },
  {
   "cell_type": "code",
   "execution_count": null,
   "metadata": {},
   "outputs": [],
   "source": [
    "checker.csv_match('data/labels.csv', 'solutions/labels.csv')\n",
    "print(\"Everything looks good!\")"
   ]
  },
  {
   "cell_type": "markdown",
   "metadata": {},
   "source": [
    "## Problem 2: Email as bag-of-words\n",
    "\n",
    "Convert each email into a bag-of-words representation. This kind of representation is frequently used to represent text documents in preparation for classification models. Produce a `npz` file which contains one row per email (emails sorted alphabetically according file path) and one column per unique word (sorted alphabetically) with the value being the number of times the word was used in the email. You will need to stored this table as a sparse matrix.\n",
    "\n",
    "Update the Docker image from Problem 1 so that it produces a `npz` file at `data/count.npz` when call with the argument `bag.py`.\n",
    "\n",
    "See https://docs.scipy.org/doc/scipy/reference/generated/scipy.sparse.save_npz.html how to save a sparse matrix as an `npz` file.\n",
    "\n",
    "NOTE: If you are seeing some kind of decoding error (e.g. `UnicodeDecodeError`) the files are encoded as `latin-1`."
   ]
  },
  {
   "cell_type": "code",
   "execution_count": null,
   "metadata": {},
   "outputs": [],
   "source": [
    "# Run Docker container based on image `newsgroups`\n",
    "command = \"docker run --rm -v {0}:/data newsgroups bag.py\".format(base_data_dir)\n",
    "result = subprocess.run(command.split(\" \"), stdout=subprocess.PIPE, stderr=subprocess.PIPE)\n",
    "\n",
    "# Output result of running command\n",
    "print(\"Return code (0 is good): \" + str(result.returncode))\n",
    "print(\"stdout:\\n\" + result.stdout.decode(\"utf-8\"))\n",
    "print(\"stderr:\\n\" + result.stderr.decode(\"utf-8\"))"
   ]
  },
  {
   "cell_type": "code",
   "execution_count": null,
   "metadata": {},
   "outputs": [],
   "source": [
    "checker.sparse_npz_match('data/count.npz', 'solutions/count.npz')\n",
    "print(\"Everything looks good!\")"
   ]
  }
 ],
 "metadata": {
  "kernelspec": {
   "display_name": "Python 3",
   "language": "python",
   "name": "python3"
  },
  "language_info": {
   "codemirror_mode": {
    "name": "ipython",
    "version": 3
   },
   "file_extension": ".py",
   "mimetype": "text/x-python",
   "name": "python",
   "nbconvert_exporter": "python",
   "pygments_lexer": "ipython3",
   "version": "3.6.2"
  }
 },
 "nbformat": 4,
 "nbformat_minor": 2
}
